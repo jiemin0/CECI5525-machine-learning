{
 "cells": [
  {
   "cell_type": "code",
   "execution_count": null,
   "metadata": {},
   "outputs": [],
   "source": [
    "!conda install --yes cvxopt"
   ]
  },
  {
   "cell_type": "code",
   "execution_count": 1,
   "metadata": {},
   "outputs": [],
   "source": [
    "import numpy as np\n",
    "import pandas as pd\n",
    "import  matplotlib.pyplot as plt\n",
    "import cvxopt"
   ]
  },
  {
   "cell_type": "code",
   "execution_count": 2,
   "metadata": {},
   "outputs": [
    {
     "data": {
      "text/html": [
       "<div>\n",
       "<style scoped>\n",
       "    .dataframe tbody tr th:only-of-type {\n",
       "        vertical-align: middle;\n",
       "    }\n",
       "\n",
       "    .dataframe tbody tr th {\n",
       "        vertical-align: top;\n",
       "    }\n",
       "\n",
       "    .dataframe thead th {\n",
       "        text-align: right;\n",
       "    }\n",
       "</style>\n",
       "<table border=\"1\" class=\"dataframe\">\n",
       "  <thead>\n",
       "    <tr style=\"text-align: right;\">\n",
       "      <th></th>\n",
       "      <th>1.764052345967664</th>\n",
       "      <th>0.4001572083672233</th>\n",
       "      <th>-1.0</th>\n",
       "    </tr>\n",
       "  </thead>\n",
       "  <tbody>\n",
       "    <tr>\n",
       "      <th>0</th>\n",
       "      <td>0.978738</td>\n",
       "      <td>2.240893</td>\n",
       "      <td>-1.0</td>\n",
       "    </tr>\n",
       "    <tr>\n",
       "      <th>1</th>\n",
       "      <td>1.867558</td>\n",
       "      <td>-0.977278</td>\n",
       "      <td>1.0</td>\n",
       "    </tr>\n",
       "    <tr>\n",
       "      <th>2</th>\n",
       "      <td>0.950088</td>\n",
       "      <td>-0.151357</td>\n",
       "      <td>1.0</td>\n",
       "    </tr>\n",
       "    <tr>\n",
       "      <th>3</th>\n",
       "      <td>-0.103219</td>\n",
       "      <td>0.410599</td>\n",
       "      <td>1.0</td>\n",
       "    </tr>\n",
       "    <tr>\n",
       "      <th>4</th>\n",
       "      <td>0.144044</td>\n",
       "      <td>1.454274</td>\n",
       "      <td>-1.0</td>\n",
       "    </tr>\n",
       "  </tbody>\n",
       "</table>\n",
       "</div>"
      ],
      "text/plain": [
       "   1.764052345967664  0.4001572083672233  -1.0\n",
       "0           0.978738            2.240893  -1.0\n",
       "1           1.867558           -0.977278   1.0\n",
       "2           0.950088           -0.151357   1.0\n",
       "3          -0.103219            0.410599   1.0\n",
       "4           0.144044            1.454274  -1.0"
      ]
     },
     "execution_count": 2,
     "metadata": {},
     "output_type": "execute_result"
    }
   ],
   "source": [
    "data=pd.read_csv('/Users/yangxiaomin/Documents/courses/csci 5525/5525HW_2/hw2data.csv')\n",
    "data.head()"
   ]
  },
  {
   "cell_type": "code",
   "execution_count": 3,
   "metadata": {},
   "outputs": [],
   "source": [
    "# split data into train test\n",
    "n_t=data.shape[0]\n",
    "n_train=round(0.8*n_t)\n",
    "n_test=n_t-n_train\n",
    "x_train=data.iloc[:n_train,:2]\n",
    "x_test=data.iloc[n_train:,:2]\n",
    "y_train=data.iloc[:n_train,[2]]\n",
    "y_test=data.iloc[n_train:,[2]]"
   ]
  },
  {
   "cell_type": "code",
   "execution_count": 4,
   "metadata": {},
   "outputs": [],
   "source": [
    "\n",
    "def gaussian_kernel(x, y, sigma=5.0):\n",
    "    return np.exp(-np.linalg.norm(x-y)**2 / (2 * (sigma ** 2)))"
   ]
  },
  {
   "cell_type": "code",
   "execution_count": 5,
   "metadata": {},
   "outputs": [],
   "source": [
    " # Gram matrix\n",
    "def gram_matrix(x_train):\n",
    "    n_samples=x_train.shape[0]\n",
    "    K = np.zeros((n_samples, n_samples))\n",
    "    for i in range(n_samples):\n",
    "        for j in range(n_samples):\n",
    "            K[i,j] = gaussian_kernel(x_train.iloc[i,:], x_train.iloc[j,:])\n",
    "            \n",
    "    return K\n"
   ]
  },
  {
   "cell_type": "code",
   "execution_count": 6,
   "metadata": {},
   "outputs": [],
   "source": [
    "def rbf_svm_train(x_train,y_train,c):\n",
    "    y_train=pd.DataFrame.as_matrix(y_train)\n",
    "    n_train=x_train.shape[0]\n",
    "    # get gram_matrix\n",
    "    G=gram_matrix(x_train)\n",
    "    #compute H matrix\n",
    "    H=np.outer(y_train,y_train)*1.*G\n",
    "    # construct cvsmatrix\n",
    "    q=-np.ones((n_train,1))\n",
    "    G=np.vstack((-np.eye(n_train),np.eye(n_train)))\n",
    "    p=H\n",
    "    h=np.hstack((np.zeros(n_train),np.ones(n_train)*c))\n",
    "    b=np.zeros(1)\n",
    "    q=cvxopt.matrix(q)\n",
    "    G=cvxopt.matrix(G)\n",
    "    p=cvxopt.matrix(p)\n",
    "    h=cvxopt.matrix(h)\n",
    "    A=cvxopt.matrix(y_train.T)\n",
    "    b=cvxopt.matrix(b)\n",
    "    \n",
    "    # solve problem\n",
    "    sol = cvxopt.solvers.qp(p, q, G, h, A, b)\n",
    "    # langurange multipliers\n",
    "    a=np.ravel(sol['x'])\n",
    "    # pick support point\n",
    "    ind=a>0\n",
    "    a=a[ind]\n",
    "    x_train=x_train[ind]\n",
    "    y_train=y_train[ind]\n",
    "    # compute w\n",
    "    n_t=a.shape[0]\n",
    "    a=a.reshape((n_t,1))\n",
    "    w=np.multiply(y_train,a)*x_train\n",
    "    w=np.sum(w,axis=0)\n",
    "    \n",
    "    return w\n",
    "    "
   ]
  },
  {
   "cell_type": "code",
   "execution_count": 7,
   "metadata": {},
   "outputs": [],
   "source": [
    "# predict \n",
    "def rbf_svm_predict(x_test,w):\n",
    "    n_test=x_test.shape[0]\n",
    "    z=np.dot(x_test,w.T)\n",
    "    pred=np.sign(z)\n",
    "    pred=pred.reshape(n_test,1)\n",
    "    return pred"
   ]
  },
  {
   "cell_type": "code",
   "execution_count": null,
   "metadata": {},
   "outputs": [],
   "source": []
  },
  {
   "cell_type": "code",
   "execution_count": 8,
   "metadata": {},
   "outputs": [],
   "source": [
    "#caculate accuracy by unmatched\n",
    "def accuracy(y_test,y_pred):\n",
    "    n_test=y_test.shape[0]\n",
    "    correct=np.sum(y_test==y_pred)\n",
    "    return correct/n_test\n",
    "\n",
    "\n",
    "\n"
   ]
  },
  {
   "cell_type": "code",
   "execution_count": 9,
   "metadata": {},
   "outputs": [],
   "source": [
    "# shuffled the dataset\n",
    "def cross_validation(x_train,y_train):\n",
    "    \n",
    "    n=x_train.shape[0]\n",
    "    index = np.random.permutation(n)\n",
    "    x_shuffled=x_train.iloc[index,:]\n",
    "    y_shuffled=y_train.iloc[index,:]\n",
    "    return x_shuffled,y_shuffled\n",
    "    "
   ]
  },
  {
   "cell_type": "code",
   "execution_count": 10,
   "metadata": {},
   "outputs": [],
   "source": [
    "def get_next_train_valid(X_shuffled, Y_shuffled, itr):\n",
    "    \"\"\"\n",
    "    - itr value can tell you which fold you pick up for valid and rest go to training\n",
    "    - use 1 fold for validation and all other folds for training\n",
    "    - in next iteration, use a different fold for validation and remaining folds for training\n",
    "        \n",
    "    Basically, here you will determine which fold goes for validation and which ones for training\n",
    "    \"\"\"\n",
    "    size=len(Y_shuffled)/10\n",
    " \n",
    "    validL=round(size*(itr-1))\n",
    "    validR=round(size*(itr))\n",
    "    X_valid=X_shuffled.iloc[validL:validR]\n",
    "    y_valid=Y_shuffled.iloc[validL:validR]\n",
    "    X_train=pd.concat([X_shuffled.iloc[0:validL],X_shuffled.iloc[validR:]])  \n",
    "    y_train=pd.concat([Y_shuffled.iloc[0:validL],Y_shuffled.iloc[validR:]]) \n",
    "    return X_train,y_train,X_valid, y_valid\n",
    "    #return training and validation data"
   ]
  },
  {
   "cell_type": "code",
   "execution_count": 11,
   "metadata": {},
   "outputs": [],
   "source": [
    "def main(x_train,y_train,x_test,y_test,c):\n",
    "    x_shuffled,y_shuffled=cross_validation(x_train,y_train)\n",
    "    accu_cv=list()\n",
    "    accu_t=list()\n",
    "    accu_tra=list()\n",
    "    for itr in range(1,11):\n",
    "        x_train, y_train, x_valid, y_valid=get_next_train_valid(x_shuffled, y_shuffled, itr)\n",
    "        #ntrain data using train set\n",
    "        w=rbf_svm_train(x_train,y_train,c)\n",
    "        #predict in v set\n",
    "        pred=rbf_svm_predict(x_valid,w)\n",
    "        # predict in test set\n",
    "        tpred=rbf_svm_predict(x_test,w)\n",
    "        print('predict in train set')\n",
    "        trapred=rbf_svm_predict(x_train,w)\n",
    "        print('caculate accuray')\n",
    "        a=accuracy(pred,y_valid)\n",
    "        at=accuracy(tpred,y_test)\n",
    "        atra=accuracy(trapred,y_train)\n",
    "        accu_cv.append(a)\n",
    "        accu_t.append(at)\n",
    "        accu_tra.append(atra)\n",
    "    \n",
    "    \n",
    "    \n",
    "    return accu_cv,accu_t,accu_tra\n",
    "        "
   ]
  },
  {
   "cell_type": "code",
   "execution_count": null,
   "metadata": {},
   "outputs": [
    {
     "name": "stderr",
     "output_type": "stream",
     "text": [
      "/anaconda3/lib/python3.7/site-packages/ipykernel_launcher.py:2: FutureWarning: Method .as_matrix will be removed in a future version. Use .values instead.\n",
      "  \n"
     ]
    }
   ],
   "source": [
    "validation_maccu,test_maccu,train_maccu=main(x_train,y_train,x_test,y_test,2)\n",
    "print('validation mean accuracy: ' + str(validation_maccu))\n",
    "print('test mean accuracy: ' + str(test_maccu))\n",
    "print('train mean accuracy:' + str(train_maccu))\n"
   ]
  },
  {
   "cell_type": "code",
   "execution_count": 14,
   "metadata": {},
   "outputs": [
    {
     "ename": "NameError",
     "evalue": "name 'test_maccu' is not defined",
     "output_type": "error",
     "traceback": [
      "\u001b[0;31m---------------------------------------------------------------------------\u001b[0m",
      "\u001b[0;31mNameError\u001b[0m                                 Traceback (most recent call last)",
      "\u001b[0;32m<ipython-input-14-481ac0846302>\u001b[0m in \u001b[0;36m<module>\u001b[0;34m\u001b[0m\n\u001b[0;32m----> 1\u001b[0;31m \u001b[0mtest_maccu\u001b[0m\u001b[0;34m\u001b[0m\u001b[0;34m\u001b[0m\u001b[0m\n\u001b[0m",
      "\u001b[0;31mNameError\u001b[0m: name 'test_maccu' is not defined"
     ]
    }
   ],
   "source": [
    "test_maccu"
   ]
  },
  {
   "cell_type": "code",
   "execution_count": 13,
   "metadata": {},
   "outputs": [
    {
     "ename": "NameError",
     "evalue": "name 'validation_maccu' is not defined",
     "output_type": "error",
     "traceback": [
      "\u001b[0;31m---------------------------------------------------------------------------\u001b[0m",
      "\u001b[0;31mNameError\u001b[0m                                 Traceback (most recent call last)",
      "\u001b[0;32m<ipython-input-13-69d18e7590fa>\u001b[0m in \u001b[0;36m<module>\u001b[0;34m\u001b[0m\n\u001b[0;32m----> 1\u001b[0;31m \u001b[0mprint\u001b[0m\u001b[0;34m(\u001b[0m\u001b[0;34m'validation mean accuracy: '\u001b[0m \u001b[0;34m+\u001b[0m \u001b[0mstr\u001b[0m\u001b[0;34m(\u001b[0m\u001b[0mvalidation_maccu\u001b[0m\u001b[0;34m)\u001b[0m\u001b[0;34m)\u001b[0m\u001b[0;34m\u001b[0m\u001b[0;34m\u001b[0m\u001b[0m\n\u001b[0m\u001b[1;32m      2\u001b[0m \u001b[0mprint\u001b[0m\u001b[0;34m(\u001b[0m\u001b[0;34m'test mean accuracy: '\u001b[0m \u001b[0;34m+\u001b[0m \u001b[0mstr\u001b[0m\u001b[0;34m(\u001b[0m\u001b[0mtest_maccu\u001b[0m\u001b[0;34m)\u001b[0m\u001b[0;34m)\u001b[0m\u001b[0;34m\u001b[0m\u001b[0;34m\u001b[0m\u001b[0m\n\u001b[1;32m      3\u001b[0m \u001b[0mprint\u001b[0m\u001b[0;34m(\u001b[0m\u001b[0;34m'train mean accuracy:'\u001b[0m \u001b[0;34m+\u001b[0m \u001b[0mstr\u001b[0m\u001b[0;34m(\u001b[0m\u001b[0mtrain_maccu\u001b[0m\u001b[0;34m)\u001b[0m\u001b[0;34m)\u001b[0m\u001b[0;34m\u001b[0m\u001b[0;34m\u001b[0m\u001b[0m\n\u001b[1;32m      4\u001b[0m \u001b[0mprint\u001b[0m\u001b[0;34m(\u001b[0m\u001b[0;34m'test accuracy: '\u001b[0m\u001b[0;34m+\u001b[0m \u001b[0mstr\u001b[0m\u001b[0;34m(\u001b[0m\u001b[0mtest_accu\u001b[0m\u001b[0;34m)\u001b[0m\u001b[0;34m)\u001b[0m\u001b[0;34m\u001b[0m\u001b[0;34m\u001b[0m\u001b[0m\n",
      "\u001b[0;31mNameError\u001b[0m: name 'validation_maccu' is not defined"
     ]
    }
   ],
   "source": [
    "print('validation mean accuracy: ' + str(validation_maccu))\n",
    "print('test mean accuracy: ' + str(test_maccu))\n",
    "print('train mean accuracy:' + str(train_maccu))\n",
    "print('test accuracy: '+ str(test_accu))"
   ]
  },
  {
   "cell_type": "code",
   "execution_count": 36,
   "metadata": {},
   "outputs": [
    {
     "data": {
      "text/plain": [
       "[0.5138636495251332,\n",
       " 0.5172672959617018,\n",
       " 0.5162951219983013,\n",
       " 0.5165024901552003,\n",
       " 0.5165035035904564,\n",
       " 0.5149745676009575,\n",
       " 0.5145577561578256]"
      ]
     },
     "execution_count": 36,
     "metadata": {},
     "output_type": "execute_result"
    }
   ],
   "source": []
  },
  {
   "cell_type": "code",
   "execution_count": 93,
   "metadata": {},
   "outputs": [],
   "source": [
    "def plot(mean,title):\n",
    "    hper=list((0.0001,0.001,0.01,0.1,10,100,1000))\n",
    "    fig,ax=plt.subplots()\n",
    "\n",
    "    ax.scatter(hper,mean, color='lightblue')\n",
    "    lines = ax.plot(hper,mean) \n",
    "    ax.set(title=title,xlabel='C', ylabel='mean accuracy',ylim=[0.48,0.52])\n",
    "    plt.show()"
   ]
  },
  {
   "cell_type": "code",
   "execution_count": 94,
   "metadata": {},
   "outputs": [
    {
     "data": {
      "image/png": "[encoded data removed]",
      "text/plain": [
       "<Figure size 432x288 with 1 Axes>"
      ]
     },
     "metadata": {
      "needs_background": "light"
     },
     "output_type": "display_data"
    },
    {
     "data": {
      "image/png": "[encoded data removed]",
      "text/plain": [
       "<Figure size 432x288 with 1 Axes>"
      ]
     },
     "metadata": {
      "needs_background": "light"
     },
     "output_type": "display_data"
    },
    {
     "data": {
      "image/png": "[encoded data removed]",
      "text/plain": [
       "<Figure size 432x288 with 1 Axes>"
      ]
     },
     "metadata": {
      "needs_background": "light"
     },
     "output_type": "display_data"
    }
   ],
   "source": [
    "plot(mean_train,'train')\n",
    "plot(mean_test,'test')\n",
    "plot(mean_valid,'validation')"
   ]
  },
  {
   "cell_type": "code",
   "execution_count": null,
   "metadata": {},
   "outputs": [],
   "source": [
    "'''\n",
    "validation mean accuracy: 0.4790487421383648\n",
    "test mean accuracy: 0.5089999999999999\n",
    "train mean accuracy:0.48641514168790045\n",
    "the result of kenerl it's slightly better than linear SVM, cause it's expand the feature thus capture more information\n",
    "of features. So it's predict more accurate.\n",
    "'''"
   ]
  }
 ],
 "metadata": {
  "kernelspec": {
   "display_name": "Python 3",
   "language": "python",
   "name": "python3"
  },
  "language_info": {
   "codemirror_mode": {
    "name": "ipython",
    "version": 3
   },
   "file_extension": ".py",
   "mimetype": "text/x-python",
   "name": "python",
   "nbconvert_exporter": "python",
   "pygments_lexer": "ipython3",
   "version": "3.7.1"
  }
 },
 "nbformat": 4,
 "nbformat_minor": 2
}
